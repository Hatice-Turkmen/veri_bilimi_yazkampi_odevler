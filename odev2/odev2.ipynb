{
 "cells": [
  {
   "cell_type": "code",
   "execution_count": null,
   "id": "8ff2fd19-9159-4dcb-81a6-38d294651ada",
   "metadata": {},
   "outputs": [],
   "source": []
  },
  {
   "cell_type": "code",
   "execution_count": 3,
   "id": "eb52d661-e6cc-472a-a5c9-7fb47942c9ee",
   "metadata": {
    "collapsed": true,
    "jupyter": {
     "outputs_hidden": true
    }
   },
   "outputs": [
    {
     "name": "stdin",
     "output_type": "stream",
     "text": [
      "Bir kelime giriniz: data\n"
     ]
    },
    {
     "name": "stdout",
     "output_type": "stream",
     "text": [
      "{'d': 1, 'a': 2, 't': 1}\n"
     ]
    }
   ],
   "source": [
    "\"\"\"Soru 2 – Harf Frekansı (String)\n",
    "Kullanıcıdan bir kelime alın.\n",
    "•\n",
    "Hangi harften kaç tane geçtiğini bulun.\n",
    "•\n",
    "Sonucu dictionary olarak gösterin.\n",
    "Örnek: \"data\" → {'d': 1, 'a': 2, 't': 1}\n",
    "\"\"\"\n",
    "kelime=input(\"Bir kelime giriniz:\")\n",
    "harf_sayı={}\n",
    "for i in kelime:\n",
    "    if i in harf_sayı:\n",
    "        harf_sayı[i]+=1\n",
    "    else:\n",
    "        harf_sayı[i]=1\n",
    "print(harf)"
   ]
  },
  {
   "cell_type": "code",
   "execution_count": null,
   "id": "2a72e43a-90f2-4cd7-8646-1486255ed05b",
   "metadata": {},
   "outputs": [],
   "source": [
    "\"\"\"Soru 3 – Şifre Kontrolü (String Metotları)\n",
    "Kullanıcıdan şifre girmesini isteyin. Şifre:\n",
    "•\n",
    "En az 8 karakter olmalı\n",
    "•\n",
    "En az 1 büyük harf içermeli\n",
    "•\n",
    "En az 1 rakam içermeli\n",
    "Koşulları sağlayıp sağlamadığına göre kullanıcıyı bilgilendirin.\"\"\"\n",
    "şifre=input(\"Şifre giriniz:\")\n",
    "if len(şifre)<8:\n",
    "    print(\"Şifre en az 8 karakter olmalı\")\n",
    "elif not any(harf.isupper() for harf in şifre):\n",
    "    print(\"Şifrede en az 1 büyük harf olmalı\")\n",
    "elif not any(rakam.isdigit() for rakam in şifre):\n",
    "    print(\"Şifrede en az 1 rakam olmalı\")\n",
    "else:\n",
    "    print(\"Şifre oluşturuldu.\")"
   ]
  },
  {
   "cell_type": "code",
   "execution_count": null,
   "id": "c933bf46-72ac-474d-bb20-c7a171c8a128",
   "metadata": {},
   "outputs": [],
   "source": [
    "\"\"\"Soru 4 – Liste İşlemleri\n",
    "[12, 4, 9, 25, 30, 7, 18] listesini kullanın.\n",
    "•\n",
    "Listenin ortalamasını bulun.\n",
    "•\n",
    "Ortalamadan büyük sayıları ayrı bir listeye atın.\n",
    "•\n",
    "Sonucu ekrana yazdırın.\n",
    "\"\"\"\n",
    "liste=[12, 4, 9, 25, 30, 7, 18]\n",
    "ortalama=sum(liste)/len(liste)\n",
    "liste2=[sayı for sayı in liste if sayı>ortalama ]\n",
    "print(\"ortalaması:\",ortalama)\n",
    "print(\"yeni liste:\",liste2)"
   ]
  },
  {
   "cell_type": "code",
   "execution_count": null,
   "id": "e7eecaef-6a52-4983-8646-0fa333829b91",
   "metadata": {},
   "outputs": [],
   "source": [
    "\"\"\"Soru 5 – Nested Loop (Desen)\n",
    "Aşağıdaki çıktıyı üreten programı yazın (üçgen desen):\n",
    "*\n",
    "**\n",
    "***\n",
    "****\n",
    "*****\n",
    "\"\"\"\n",
    "satır_sayısı=5\n",
    "for i in range(1, satır_sayısı + 1):\n",
    "    print(\"*\" * i)"
   ]
  },
  {
   "cell_type": "code",
   "execution_count": null,
   "id": "e32a91b8-9b72-49ff-8a5b-495586ab42c4",
   "metadata": {},
   "outputs": [],
   "source": [
    "\"\"\"Soru 6 – While Döngüsü\n",
    "Kullanıcıdan sürekli sayı isteyin.\n",
    "•\n",
    "Kullanıcı 0 girdiğinde program dursun.\n",
    "•\n",
    "Girilen tüm sayıların toplamını ve ortalamasını yazdırın.\n",
    "\"\"\"\n",
    "toplam=0\n",
    "adet=0\n",
    "while True:  #sonsuz döngü b\n",
    "    sayı = int(input(\"Bir sayı giriniz çıkmak için ise 0: \"))\n",
    "    if sayı==0:\n",
    "        break\n",
    "    toplam+=sayı\n",
    "    adet+=1\n",
    "if adet>0:\n",
    "    ortalama = toplam / adet\n",
    "else:\n",
    "    ortalama = 0\n",
    "print(\"Girilen sayıların toplamı:\", toplam)\n",
    "print(\"Girilen sayıların ortalaması:\", ortalama)"
   ]
  },
  {
   "cell_type": "code",
   "execution_count": null,
   "id": "e1a61f91-afaa-402f-8fdd-88194d8842cb",
   "metadata": {},
   "outputs": [],
   "source": [
    "\"\"\"Soru 7 – Palindrom Kontrolü\n",
    "Kullanıcıdan bir kelime isteyin.\n",
    "•\n",
    "Kelimenin palindrom olup olmadığını kontrol edin.\n",
    "•\n",
    "Örnek: \"kayak\" → Palindrom , \"python\" → Değil\n",
    "\"\"\"\n",
    "kelime=input(\"Kelime giriniz:\")\n",
    "tersi=kelime[::-1]\n",
    "if tersi==kelime:\n",
    "    print(\"Kelime palindromdur\")\n",
    "else:\n",
    "    print(\"Kelime palindrom değildir\")"
   ]
  },
  {
   "cell_type": "code",
   "execution_count": null,
   "id": "7c882694-2f03-4b84-a2e6-ac230375ddda",
   "metadata": {},
   "outputs": [],
   "source": [
    "\"\"\"Soru 8 – List Comprehension\n",
    "1’den 100’e kadar olan sayılardan:\n",
    "•\n",
    "Hem 3’e hem 5’e bölünebilenlerin karelerini içeren bir liste oluşturun.\n",
    "•\n",
    "Sonucu ekrana yazdırın\n",
    "\"\"\"\n",
    "kareleri=[x**2 for x in range(1,101) if x%3==0 and x%5==0]\n",
    "print(\"3'e ve 5’e bölünebilenlerin kareleri:\",kareleri)"
   ]
  },
  {
   "cell_type": "code",
   "execution_count": null,
   "id": "4129432e-69dc-4bd7-aeea-215bf8e84143",
   "metadata": {},
   "outputs": [],
   "source": [
    "\"\"\"Soru 9 – String İşlemleri\n",
    "Bir cümle alın.\n",
    "•\n",
    "Cümledeki kelimeleri split() ile ayırın.\n",
    "•\n",
    "Her kelimenin ilk harfini büyük yaparak yeni bir string oluşturun.\n",
    "•\n",
    "Örnek: \"python veri bilimi\" → \"Python Veri Bilimi\"\n",
    "\"\"\"\n",
    "cumle=input(\"Herhangi bir cümle giriniz:\")\n",
    "ayırım=cumle.split()\n",
    "buyuk=[i.capitalize() for i in ayırım]\n",
    "yeni_cumle = \" \".join(buyuk)\n",
    "print(\"sonuç:\",yeni_cumle)"
   ]
  },
  {
   "cell_type": "code",
   "execution_count": null,
   "id": "b11f3311-0dca-4eb6-9075-4aaf7497de9b",
   "metadata": {},
   "outputs": [],
   "source": [
    "\"\"\"Mini Proje – Film Yorumu Analizi\n",
    "Proje Tanımı:\n",
    "Kullanıcıdan birkaç film yorumu alın (örneğin 5–6 yorum). - Yorumları bir listeye atın. - Her yorumun uzunluğunu (karakter sayısı) bulun. - Kaç yorumda \"iyi\" kelimesi geçtiğini sayın. - En uzun yorumu ve en kısa yorumu ekrana yazdırın. - Tüm yorumların ortalama uzunluğunu hesaplayın.\n",
    ":Beklenen Çıktı Örneği\n",
    "Girdi (yorumlar):\n",
    "[\"Film çok güzeldi\", \"Kötüydü\", \"Ortalama bir filmdi\", \"Gerçekten çok iyi!\", \"İyi ama daha iyi olabilirdi\"] Çıktı: Toplam yorum sayısı: 5 \"iyi\" geçen yorum sayısı: 2 En uzun yorum: İyi ama daha iyi olabilirdi En kısa yorum: Kötüydü Ortalama uzunluk: 17.4 karakter\n",
    "\"\"\"\n",
    "yorumlar=[]\n",
    "for i in range(5):\n",
    "    yorum=input(f\"{i+1}. yorumu giriniz:\")\n",
    "    yorumlar.append(yorum)\n",
    "uzunluk=[len(yorum) for yorum in yorumlar]\n",
    "iyi_sayısı=sum(\"iyi\" in yorum.lower() for yorum in yorumlar)\n",
    "en_uzun=max(yorumlar, key=len)\n",
    "en_kısa=min(yorumlar, key=len)\n",
    "ort_uz=sum(uzunluk)/len(uzunluk)\n",
    "print(\n",
    "    f\"Toplam yorum sayısı: {len(yorumlar)}\\n\"\n",
    "    f\"'iyi' geçen yorum sayısı: {iyi_sayısı}\\n\"\n",
    "    f\"En uzun yorum: {en_uzun}\\n\"\n",
    "    f\"En kısa yorum: {en_kısa}\\n\"\n",
    "    f\"Ortalama uzunluk: {ort_uz:.1f} karakter\"\n",
    ")"
   ]
  }
 ],
 "metadata": {
  "kernelspec": {
   "display_name": "Python 3 (ipykernel)",
   "language": "python",
   "name": "python3"
  },
  "language_info": {
   "codemirror_mode": {
    "name": "ipython",
    "version": 3
   },
   "file_extension": ".py",
   "mimetype": "text/x-python",
   "name": "python",
   "nbconvert_exporter": "python",
   "pygments_lexer": "ipython3",
   "version": "3.13.5"
  }
 },
 "nbformat": 4,
 "nbformat_minor": 5
}
