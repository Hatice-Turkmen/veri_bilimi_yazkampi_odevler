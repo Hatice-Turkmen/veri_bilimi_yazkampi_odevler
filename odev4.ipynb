{
 "cells": [
  {
   "cell_type": "code",
   "execution_count": null,
   "id": "19644003-c32e-4a2a-8474-bd3b605438be",
   "metadata": {},
   "outputs": [],
   "source": [
    "\"\"\"1.\t1. Numpy ile Matris İşlemleri\n",
    "- 5x5 boyutunda rastgele (0-100 arasında) tam sayılardan oluşan bir matris oluşturun.\n",
    "- Bu matrisin:\n",
    "  • Ortalama, standart sapma ve varyansını hesaplayın.\n",
    "  • En büyük ve en küçük değerlerini bulun.\n",
    "  • Köşegenindeki elemanların toplamını bulun.\n",
    "\"\"\"\n",
    "import numpy as np\n",
    "matris = np.random.randint(0, 101, size=(5, 5))\n",
    "print(\"Matris:\\n\", matris)\n",
    "print(\"Ortalama:\", np.mean(matris))\n",
    "print(\"Standart Sapma:\", np.std(matris))\n",
    "print(\"Varyans:\", np.var(matris))\n",
    "print(\"En Büyük:\", np.max(matris))\n",
    "print(\"En Küçük:\", np.min(matris))\n",
    "print(\"Köşegen Toplamı:\", np.trace(matris))\n"
   ]
  },
  {
   "cell_type": "code",
   "execution_count": null,
   "id": "99ad3487-9492-490f-ae2f-6e3f6d01ae97",
   "metadata": {},
   "outputs": [],
   "source": [
    "\"\"\"2.\t2. Numpy ile Veri Simülasyonu\n",
    "- 1000 adet öğrencinin sınav puanlarını (0-100 arası, normal dağılımdan gelen) simüle edin.\n",
    "- Ortalama, medyan ve standart sapmayı hesaplayın.\n",
    "- 50’den düşük alan kaç öğrenci olduğunu bulun.\n",
    "\"\"\"\n",
    "np.random.seed(42)\n",
    "puanlar = np.random.normal(loc=70, scale=15, size=1000)\n",
    "ortalama = np.mean(puanlar)\n",
    "medyan = np.median(puanlar)\n",
    "std = np.std(puanlar)\n",
    "dusuk_sayisi = np.sum(puanlar < 50)\n",
    "\n",
    "print(\"Ortalama:\", ortalama)\n",
    "print(\"Medyan:\", medyan)\n",
    "print(\"Standart Sapma:\", std)\n",
    "print(\"50’den düşük alan öğrenci sayısı:\", dusuk_sayisi)"
   ]
  },
  {
   "cell_type": "code",
   "execution_count": null,
   "id": "1b595056-b31c-4dd5-a12d-b4f69861db22",
   "metadata": {},
   "outputs": [],
   "source": [
    "\"\"\"\n",
    "Bir CSV dosyası oluşturun ya da aşağıdaki gibi örnek bir DataFrame hazırlayın:\n",
    "Öğrenci\tYaş\tBölüm\tMatematik\tFizik\tKimya\n",
    "Ali\t20\tBilgisayar\t70\t65\t80\n",
    "Ayşe\t21\tFizik\t60\t75\t85\n",
    "Mehmet\t19\tKimya\t80\t70\t65\n",
    "Zeynep\t22\tBilgisayar\t90\t85\t95\n",
    "Ahmet\t20\tFizik\t55\t60\t70\n",
    "•\tGörevler:\n",
    "3.\t1. Veri setini Pandas DataFrame olarak oluşturun.\n",
    "4.\t2. Her ders için ortalama puanı bulun.\n",
    "5.\t3. En yüksek matematik notunu alan öğrenciyi bulun.\n",
    "6.\t4. Her öğrencinin not ortalamasını hesaplayan yeni bir sütun ekleyin.\n",
    "7.\t5. Bölümlere göre gruplayarak her bölümün ortalama başarılarını hesaplayın.\n",
    "8.\t6. Ortalaması 70’in üzerinde olan öğrencileri filtreleyin.\n",
    "\"\"\"\n",
    "import pandas as pd\n",
    "data = {\n",
    "    \"Öğrenci\": [\"Ali\", \"Ayşe\", \"Mehmet\", \"Zeynep\", \"Ahmet\"],\n",
    "    \"Yaş\": [20, 21, 19, 22, 20],\n",
    "    \"Bölüm\": [\"Bilgisayar\", \"Fizik\", \"Kimya\", \"Bilgisayar\", \"Fizik\"],\n",
    "    \"Matematik\": [70, 60, 80, 90, 55],\n",
    "    \"Fizik\": [65, 75, 70, 85, 60],\n",
    "    \"Kimya\": [80, 85, 65, 95, 70]\n",
    "}\n",
    "\n",
    "df = pd.DataFrame(data)\n",
    "\n",
    "print(\"Orijinal DataFrame:\")\n",
    "print(df, \"\\n\")\n",
    "print(\"Ders Ortalamaları:\")\n",
    "print(df[[\"Matematik\", \"Fizik\", \"Kimya\"]].mean(), \"\\n\")\n",
    "max_math = df.loc[df[\"Matematik\"].idxmax(), \"Öğrenci\"]\n",
    "print(\"En yüksek matematik notunu alan öğrenci:\", max_math, \"\\n\")\n",
    "df[\"Ortalama\"] = df[[\"Matematik\", \"Fizik\", \"Kimya\"]].mean(axis=1)\n",
    "print(\"Ortalamalı DataFrame:\")\n",
    "print(df, \"\\n\")\n",
    "print(\"Bölüm Bazlı Ortalamalar:\")\n",
    "print(df.groupby(\"Bölüm\")[[\"Matematik\", \"Fizik\", \"Kimya\", \"Ortalama\"]].mean(), \"\\n\")\n",
    "print(\"Ortalaması 70 üzeri öğrenciler:\")\n",
    "print(df[df[\"Ortalama\"] > 70])"
   ]
  }
 ],
 "metadata": {
  "kernelspec": {
   "display_name": "Python 3 (ipykernel)",
   "language": "python",
   "name": "python3"
  },
  "language_info": {
   "codemirror_mode": {
    "name": "ipython",
    "version": 3
   },
   "file_extension": ".py",
   "mimetype": "text/x-python",
   "name": "python",
   "nbconvert_exporter": "python",
   "pygments_lexer": "ipython3",
   "version": "3.13.5"
  }
 },
 "nbformat": 4,
 "nbformat_minor": 5
}
